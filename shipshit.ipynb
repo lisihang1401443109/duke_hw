{
 "cells": [
  {
   "cell_type": "code",
   "execution_count": 14,
   "metadata": {},
   "outputs": [],
   "source": [
    "speed = 14\n",
    "rate = 6\n",
    "\n",
    "ballah_start = 50\n",
    "ballah_end = 60\n",
    "bitter_start = 100\n",
    "bitter_end = 120\n",
    "\n",
    "ballah_capacity = 17\n",
    "bitter_capacity = 36\n",
    "\n",
    "start = 0\n",
    "end = 160"
   ]
  }
 ],
 "metadata": {
  "kernelspec": {
   "display_name": "590d",
   "language": "python",
   "name": "python3"
  },
  "language_info": {
   "codemirror_mode": {
    "name": "ipython",
    "version": 3
   },
   "file_extension": ".py",
   "mimetype": "text/x-python",
   "name": "python",
   "nbconvert_exporter": "python",
   "pygments_lexer": "ipython3",
   "version": "3.13.0"
  }
 },
 "nbformat": 4,
 "nbformat_minor": 2
}
